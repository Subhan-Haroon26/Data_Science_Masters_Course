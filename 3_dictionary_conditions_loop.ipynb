{
 "cells": [
  {
   "attachments": {},
   "cell_type": "markdown",
   "metadata": {},
   "source": [
    "# **Dictionary, Condition, Loop**"
   ]
  },
  {
   "attachments": {},
   "cell_type": "markdown",
   "metadata": {},
   "source": [
    "### _**Dictionary**_\n"
   ]
  },
  {
   "cell_type": "code",
   "execution_count": 1,
   "metadata": {},
   "outputs": [],
   "source": [
    "# create a dictionary\n",
    "d = {}"
   ]
  },
  {
   "cell_type": "code",
   "execution_count": 2,
   "metadata": {},
   "outputs": [
    {
     "data": {
      "text/plain": [
       "dict"
      ]
     },
     "execution_count": 2,
     "metadata": {},
     "output_type": "execute_result"
    }
   ],
   "source": [
    "type(d)"
   ]
  },
  {
   "attachments": {},
   "cell_type": "markdown",
   "metadata": {},
   "source": [
    ">_If you give linear value within in curly braces python assumes it a set_\n",
    ">\n",
    ">_But if you give data in key : value format python declared it dictionary_"
   ]
  },
  {
   "cell_type": "code",
   "execution_count": 4,
   "metadata": {},
   "outputs": [],
   "source": [
    "# create another dictionary\n",
    "# variable = {key : value} --> key must be unique\n",
    "d1 = {'name' : 'subhan', 'age' : 22, 'skill' : 'Data Science'}"
   ]
  },
  {
   "cell_type": "code",
   "execution_count": 6,
   "metadata": {},
   "outputs": [
    {
     "data": {
      "text/plain": [
       "{'name': 'subhan', 'age': 22, 'skill': 'Data Science'}"
      ]
     },
     "execution_count": 6,
     "metadata": {},
     "output_type": "execute_result"
    }
   ],
   "source": [
    "d1"
   ]
  },
  {
   "cell_type": "code",
   "execution_count": 8,
   "metadata": {},
   "outputs": [],
   "source": [
    "# you can take key value from different data type\n",
    "d2 = {'members' : 15, 2 : 'Ronaldo', True : 'work hard', 75.98 : 'weight'}"
   ]
  },
  {
   "attachments": {},
   "cell_type": "markdown",
   "metadata": {},
   "source": [
    "> _you can,t use special characters directly in your key/value --> enclosed them in quotes & then use it_"
   ]
  },
  {
   "cell_type": "code",
   "execution_count": 9,
   "metadata": {},
   "outputs": [],
   "source": [
    "d3 = {'@Upwork' : 'make$$$'}"
   ]
  },
  {
   "cell_type": "code",
   "execution_count": 10,
   "metadata": {},
   "outputs": [
    {
     "data": {
      "text/plain": [
       "{'members': 15, 2: 'Ronaldo', True: 'work hard', 75.98: 'weight'}"
      ]
     },
     "execution_count": 10,
     "metadata": {},
     "output_type": "execute_result"
    }
   ],
   "source": [
    "d2"
   ]
  },
  {
   "cell_type": "code",
   "execution_count": 11,
   "metadata": {},
   "outputs": [
    {
     "data": {
      "text/plain": [
       "'Ronaldo'"
      ]
     },
     "execution_count": 11,
     "metadata": {},
     "output_type": "execute_result"
    }
   ],
   "source": [
    "# extract value using key\n",
    "# extract \"Ronaldo\" from dictionary\n",
    "d2[2]"
   ]
  },
  {
   "cell_type": "code",
   "execution_count": 12,
   "metadata": {},
   "outputs": [
    {
     "data": {
      "text/plain": [
       "'work hard'"
      ]
     },
     "execution_count": 12,
     "metadata": {},
     "output_type": "execute_result"
    }
   ],
   "source": [
    "d2[True]"
   ]
  },
  {
   "cell_type": "code",
   "execution_count": 13,
   "metadata": {},
   "outputs": [
    {
     "data": {
      "text/plain": [
       "'weight'"
      ]
     },
     "execution_count": 13,
     "metadata": {},
     "output_type": "execute_result"
    }
   ],
   "source": [
    "d2[75.98]"
   ]
  },
  {
   "cell_type": "code",
   "execution_count": 15,
   "metadata": {},
   "outputs": [],
   "source": [
    "# create new dictionary --> with 2 same key value\n",
    "# if key doesn't unique it overwrite the previous key\n",
    "d3 = {'name':'subhan', 'mail':'datascientist@gmail.com','name' : 'Dr.Subhan'}"
   ]
  },
  {
   "cell_type": "code",
   "execution_count": 16,
   "metadata": {},
   "outputs": [
    {
     "data": {
      "text/plain": [
       "'Dr.Subhan'"
      ]
     },
     "execution_count": 16,
     "metadata": {},
     "output_type": "execute_result"
    }
   ],
   "source": [
    "# it overwrites(subhan --> Dr.Subhan)\n",
    "d3['name']"
   ]
  },
  {
   "cell_type": "code",
   "execution_count": 18,
   "metadata": {},
   "outputs": [],
   "source": [
    "# create another dictionary\n",
    "# value as list\n",
    "d4 = {'person':'Subhan Nayyeri','skillset':['Data Scientist', 'Digital Marketer', 'E-Commerce Expert', 'AnalyXL owner']}"
   ]
  },
  {
   "cell_type": "code",
   "execution_count": 19,
   "metadata": {},
   "outputs": [
    {
     "data": {
      "text/plain": [
       "{'person': 'Subhan Nayyeri',\n",
       " 'skillset': ['Data Scientist',\n",
       "  'Digital Marketer',\n",
       "  'E-Commerce Expert',\n",
       "  'AnalyXL owner']}"
      ]
     },
     "execution_count": 19,
     "metadata": {},
     "output_type": "execute_result"
    }
   ],
   "source": [
    "d4"
   ]
  },
  {
   "cell_type": "code",
   "execution_count": 20,
   "metadata": {},
   "outputs": [
    {
     "data": {
      "text/plain": [
       "['Data Scientist', 'Digital Marketer', 'E-Commerce Expert', 'AnalyXL owner']"
      ]
     },
     "execution_count": 20,
     "metadata": {},
     "output_type": "execute_result"
    }
   ],
   "source": [
    "# extract skillset value\n",
    "d4['skillset']"
   ]
  },
  {
   "cell_type": "code",
   "execution_count": 21,
   "metadata": {},
   "outputs": [
    {
     "data": {
      "text/plain": [
       "'Data Scientist'"
      ]
     },
     "execution_count": 21,
     "metadata": {},
     "output_type": "execute_result"
    }
   ],
   "source": [
    "# now extract \"Data Science\" from skillset\n",
    "d4['skillset'][0]"
   ]
  },
  {
   "cell_type": "code",
   "execution_count": 24,
   "metadata": {},
   "outputs": [],
   "source": [
    "# create a new dictionary\n",
    "# store list,tuple,set,dictionary as a value\n",
    "d5 = { 'number':[1,2,3,4,5], 'assignment':(6,7,8,9,10), 'date':{9,8,7,6,5}, 'class_timing':{'data science':8, 'web scraping':12, 'data science':3, 'statistics':9}}"
   ]
  },
  {
   "cell_type": "code",
   "execution_count": 25,
   "metadata": {},
   "outputs": [
    {
     "data": {
      "text/plain": [
       "{'number': [1, 2, 3, 4, 5],\n",
       " 'assignment': (6, 7, 8, 9, 10),\n",
       " 'date': {5, 6, 7, 8, 9},\n",
       " 'class_timing': {'data science': 3, 'web scraping': 12, 'statistics': 9}}"
      ]
     },
     "execution_count": 25,
     "metadata": {},
     "output_type": "execute_result"
    }
   ],
   "source": [
    "d5"
   ]
  },
  {
   "cell_type": "code",
   "execution_count": 27,
   "metadata": {},
   "outputs": [
    {
     "data": {
      "text/plain": [
       "9"
      ]
     },
     "execution_count": 27,
     "metadata": {},
     "output_type": "execute_result"
    }
   ],
   "source": [
    "# extract \"9\" from class_timing from d5\n",
    "d5['class_timing']['statistics']"
   ]
  },
  {
   "cell_type": "code",
   "execution_count": 28,
   "metadata": {},
   "outputs": [],
   "source": [
    "# add a key value pair\n",
    "# variable[key] = value\n",
    "d5['Goals'] = ['Freelancing', 'POD', 'Remote Jobs', 'Digital Products', 'Agency', 'Multiple Income Streams']"
   ]
  },
  {
   "cell_type": "code",
   "execution_count": 29,
   "metadata": {},
   "outputs": [
    {
     "data": {
      "text/plain": [
       "{'number': [1, 2, 3, 4, 5],\n",
       " 'assignment': (6, 7, 8, 9, 10),\n",
       " 'date': {5, 6, 7, 8, 9},\n",
       " 'class_timing': {'data science': 3, 'web scraping': 12, 'statistics': 9},\n",
       " 'Goals': ['Freelancing',\n",
       "  'POD',\n",
       "  'Remote Jobs',\n",
       "  'Digital Products',\n",
       "  'Agency',\n",
       "  'Multiple Income Streams']}"
      ]
     },
     "execution_count": 29,
     "metadata": {},
     "output_type": "execute_result"
    }
   ],
   "source": [
    "d5"
   ]
  },
  {
   "cell_type": "code",
   "execution_count": 30,
   "metadata": {},
   "outputs": [],
   "source": [
    "# delete key/value from dictionary\n",
    "# del variable[key you want to delete]\n",
    "del d5['number']"
   ]
  },
  {
   "cell_type": "code",
   "execution_count": 31,
   "metadata": {},
   "outputs": [
    {
     "data": {
      "text/plain": [
       "{'assignment': (6, 7, 8, 9, 10),\n",
       " 'date': {5, 6, 7, 8, 9},\n",
       " 'class_timing': {'data science': 3, 'web scraping': 12, 'statistics': 9},\n",
       " 'Goals': ['Freelancing',\n",
       "  'POD',\n",
       "  'Remote Jobs',\n",
       "  'Digital Products',\n",
       "  'Agency',\n",
       "  'Multiple Income Streams']}"
      ]
     },
     "execution_count": 31,
     "metadata": {},
     "output_type": "execute_result"
    }
   ],
   "source": [
    "d5"
   ]
  },
  {
   "cell_type": "code",
   "execution_count": 32,
   "metadata": {},
   "outputs": [
    {
     "data": {
      "text/plain": [
       "dict_keys(['assignment', 'date', 'class_timing', 'Goals'])"
      ]
     },
     "execution_count": 32,
     "metadata": {},
     "output_type": "execute_result"
    }
   ],
   "source": [
    "# extract a list of keys from \"d5\"\n",
    "# variable.keys()\n",
    "d5.keys()"
   ]
  },
  {
   "cell_type": "code",
   "execution_count": 33,
   "metadata": {},
   "outputs": [
    {
     "data": {
      "text/plain": [
       "['assignment', 'date', 'class_timing', 'Goals']"
      ]
     },
     "execution_count": 33,
     "metadata": {},
     "output_type": "execute_result"
    }
   ],
   "source": [
    "# convert it into proper list\n",
    "list(d5.keys())"
   ]
  },
  {
   "cell_type": "code",
   "execution_count": 34,
   "metadata": {},
   "outputs": [
    {
     "data": {
      "text/plain": [
       "dict_values([(6, 7, 8, 9, 10), {5, 6, 7, 8, 9}, {'data science': 3, 'web scraping': 12, 'statistics': 9}, ['Freelancing', 'POD', 'Remote Jobs', 'Digital Products', 'Agency', 'Multiple Income Streams']])"
      ]
     },
     "execution_count": 34,
     "metadata": {},
     "output_type": "execute_result"
    }
   ],
   "source": [
    "# extract a list of values from \"d5\"\n",
    "# variable.values()\n",
    "d5.values()"
   ]
  },
  {
   "cell_type": "code",
   "execution_count": 35,
   "metadata": {},
   "outputs": [
    {
     "data": {
      "text/plain": [
       "[(6, 7, 8, 9, 10),\n",
       " {5, 6, 7, 8, 9},\n",
       " {'data science': 3, 'web scraping': 12, 'statistics': 9},\n",
       " ['Freelancing',\n",
       "  'POD',\n",
       "  'Remote Jobs',\n",
       "  'Digital Products',\n",
       "  'Agency',\n",
       "  'Multiple Income Streams']]"
      ]
     },
     "execution_count": 35,
     "metadata": {},
     "output_type": "execute_result"
    }
   ],
   "source": [
    "# now convert it into proper list\n",
    "list(d5.values())"
   ]
  },
  {
   "cell_type": "code",
   "execution_count": 36,
   "metadata": {},
   "outputs": [
    {
     "data": {
      "text/plain": [
       "dict_items([('assignment', (6, 7, 8, 9, 10)), ('date', {5, 6, 7, 8, 9}), ('class_timing', {'data science': 3, 'web scraping': 12, 'statistics': 9}), ('Goals', ['Freelancing', 'POD', 'Remote Jobs', 'Digital Products', 'Agency', 'Multiple Income Streams'])])"
      ]
     },
     "execution_count": 36,
     "metadata": {},
     "output_type": "execute_result"
    }
   ],
   "source": [
    "# extract a list of both key & value\n",
    "# variable.items()\n",
    "d5.items()"
   ]
  },
  {
   "cell_type": "code",
   "execution_count": 37,
   "metadata": {},
   "outputs": [
    {
     "data": {
      "text/plain": [
       "[('assignment', (6, 7, 8, 9, 10)),\n",
       " ('date', {5, 6, 7, 8, 9}),\n",
       " ('class_timing', {'data science': 3, 'web scraping': 12, 'statistics': 9}),\n",
       " ('Goals',\n",
       "  ['Freelancing',\n",
       "   'POD',\n",
       "   'Remote Jobs',\n",
       "   'Digital Products',\n",
       "   'Agency',\n",
       "   'Multiple Income Streams'])]"
      ]
     },
     "execution_count": 37,
     "metadata": {},
     "output_type": "execute_result"
    }
   ],
   "source": [
    "# now convert in into proper list\n",
    "list(d5.items())"
   ]
  },
  {
   "cell_type": "code",
   "execution_count": 38,
   "metadata": {},
   "outputs": [
    {
     "data": {
      "text/plain": [
       "(6, 7, 8, 9, 10)"
      ]
     },
     "execution_count": 38,
     "metadata": {},
     "output_type": "execute_result"
    }
   ],
   "source": [
    "# remove key/value using pop\n",
    "# variable.pop(key)\n",
    "d5.pop('assignment')"
   ]
  },
  {
   "cell_type": "code",
   "execution_count": 39,
   "metadata": {},
   "outputs": [
    {
     "data": {
      "text/plain": [
       "{'date': {5, 6, 7, 8, 9},\n",
       " 'class_timing': {'data science': 3, 'web scraping': 12, 'statistics': 9},\n",
       " 'Goals': ['Freelancing',\n",
       "  'POD',\n",
       "  'Remote Jobs',\n",
       "  'Digital Products',\n",
       "  'Agency',\n",
       "  'Multiple Income Streams']}"
      ]
     },
     "execution_count": 39,
     "metadata": {},
     "output_type": "execute_result"
    }
   ],
   "source": [
    "d5"
   ]
  },
  {
   "attachments": {},
   "cell_type": "markdown",
   "metadata": {},
   "source": [
    "### **_Control Flow (Decision making statement)_**"
   ]
  },
  {
   "cell_type": "code",
   "execution_count": 2,
   "metadata": {},
   "outputs": [
    {
     "name": "stdout",
     "output_type": "stream",
     "text": [
      "you will be a part of A0 batch\n"
     ]
    }
   ],
   "source": [
    "# multiple conditions --> if & elif\n",
    "# input used to take the input from user\n",
    "# input function automatically convert any data type to string\n",
    "# then we manually convert string into our desire data type\n",
    "\n",
    "# select batch on the basis of number\n",
    "marks = int(input('enter your marks'))\n",
    "if marks >= 80:\n",
    "    print('you will be a part of A0 batch')\n",
    "elif marks >= 60 and marks <= 80:\n",
    "    print('you will be a part of A1 batch')\n",
    "elif marks >= 40 and marks <=60:\n",
    "    print('you are the part of A2 batch')\n",
    "else:\n",
    "    print('You will be a part of A3 batch')"
   ]
  },
  {
   "cell_type": "code",
   "execution_count": 3,
   "metadata": {},
   "outputs": [
    {
     "data": {
      "text/plain": [
       "int"
      ]
     },
     "execution_count": 3,
     "metadata": {},
     "output_type": "execute_result"
    }
   ],
   "source": [
    "type(marks)"
   ]
  },
  {
   "cell_type": "code",
   "execution_count": 4,
   "metadata": {},
   "outputs": [
    {
     "name": "stdout",
     "output_type": "stream",
     "text": [
      "I will purchase it\n"
     ]
    }
   ],
   "source": [
    "# if & else\n",
    "# decide weather purchase the product or not on the basis of price\n",
    "price = int(input('enter price'))\n",
    "if price > 1000:\n",
    "    print('I will not purchase it')\n",
    "else:\n",
    "    print('I will purchase it')"
   ]
  },
  {
   "cell_type": "code",
   "execution_count": 8,
   "metadata": {},
   "outputs": [
    {
     "name": "stdout",
     "output_type": "stream",
     "text": [
      "you doing well for your health\n",
      "trying hard beast\n"
     ]
    }
   ],
   "source": [
    "# nested if statement\n",
    "# track your health progress on the basis of steps you take\n",
    "\n",
    "steps = int(input('enter the steps you take'))\n",
    "if steps > 500:\n",
    "    print('you doing well for your health')\n",
    "    if steps > 1500:\n",
    "        print('trying hard beast')"
   ]
  },
  {
   "attachments": {},
   "cell_type": "markdown",
   "metadata": {},
   "source": [
    "### _**For Loop**_"
   ]
  },
  {
   "cell_type": "code",
   "execution_count": 9,
   "metadata": {},
   "outputs": [],
   "source": [
    "# create a list\n",
    "l = [1,2,3,4,5,6,7,8]\n",
    "\n",
    "# we want to add 1 in each element of list"
   ]
  },
  {
   "cell_type": "code",
   "execution_count": 10,
   "metadata": {},
   "outputs": [
    {
     "data": {
      "text/plain": [
       "1"
      ]
     },
     "execution_count": 10,
     "metadata": {},
     "output_type": "execute_result"
    }
   ],
   "source": [
    "# extract elements from the list\n",
    "l[0]"
   ]
  },
  {
   "cell_type": "code",
   "execution_count": 11,
   "metadata": {},
   "outputs": [
    {
     "data": {
      "text/plain": [
       "2"
      ]
     },
     "execution_count": 11,
     "metadata": {},
     "output_type": "execute_result"
    }
   ],
   "source": [
    "# add 1 in elements of list\n",
    "l[0] +1"
   ]
  },
  {
   "cell_type": "code",
   "execution_count": 12,
   "metadata": {},
   "outputs": [
    {
     "data": {
      "text/plain": [
       "[2]"
      ]
     },
     "execution_count": 12,
     "metadata": {},
     "output_type": "execute_result"
    }
   ],
   "source": [
    "# store it into another list\n",
    "l1 = []\n",
    "\n",
    "# use append function\n",
    "l1.append(l[0] + 1)\n",
    "l1"
   ]
  },
  {
   "cell_type": "code",
   "execution_count": 13,
   "metadata": {},
   "outputs": [
    {
     "data": {
      "text/plain": [
       "[1, 2, 3, 4, 5, 6, 7, 8]"
      ]
     },
     "execution_count": 13,
     "metadata": {},
     "output_type": "execute_result"
    }
   ],
   "source": [
    "l"
   ]
  },
  {
   "cell_type": "code",
   "execution_count": 17,
   "metadata": {},
   "outputs": [
    {
     "name": "stdout",
     "output_type": "stream",
     "text": [
      "2\n",
      "3\n",
      "4\n",
      "5\n",
      "6\n",
      "7\n",
      "8\n",
      "9\n"
     ]
    }
   ],
   "source": [
    "# for loop\n",
    "# run the loop until it checked the all elements\n",
    "l2=[]\n",
    "for i in l:     # extract elements from the list using loop\n",
    "    print(i+1)  # add 1 in elements of list\n",
    "    l2.append(i+1) # use append function"
   ]
  },
  {
   "cell_type": "code",
   "execution_count": 18,
   "metadata": {},
   "outputs": [
    {
     "data": {
      "text/plain": [
       "[2, 3, 4, 5, 6, 7, 8, 9]"
      ]
     },
     "execution_count": 18,
     "metadata": {},
     "output_type": "execute_result"
    }
   ],
   "source": [
    "l2"
   ]
  },
  {
   "cell_type": "code",
   "execution_count": 4,
   "metadata": {},
   "outputs": [],
   "source": [
    "# convert this list into uppercase and give me the final list\n",
    "l3 = ['skills', 'python', 'statictics', 'ml', 'dl', 'nlp', 'cv', 'sql', 'power bi']"
   ]
  },
  {
   "cell_type": "code",
   "execution_count": 5,
   "metadata": {},
   "outputs": [
    {
     "name": "stdout",
     "output_type": "stream",
     "text": [
      "skills\n",
      "python\n",
      "statictics\n",
      "ml\n",
      "dl\n",
      "nlp\n",
      "cv\n",
      "sql\n",
      "power bi\n"
     ]
    }
   ],
   "source": [
    "l4 = []\n",
    "for i in l3: # extract elements from the list using for loop\n",
    "    print(i) # print elements one by one\n",
    "    l4.append(i.upper()) # add uppercase elents in l4"
   ]
  },
  {
   "cell_type": "code",
   "execution_count": 6,
   "metadata": {},
   "outputs": [
    {
     "data": {
      "text/plain": [
       "['SKILLS', 'PYTHON', 'STATICTICS', 'ML', 'DL', 'NLP', 'CV', 'SQL', 'POWER BI']"
      ]
     },
     "execution_count": 6,
     "metadata": {},
     "output_type": "execute_result"
    }
   ],
   "source": [
    "l4"
   ]
  },
  {
   "cell_type": "code",
   "execution_count": 7,
   "metadata": {},
   "outputs": [],
   "source": [
    "# make two seperate list of string and integer data\n",
    "l5 = [1,2,3,4,5, 'abc', 7.8, 'dope']"
   ]
  },
  {
   "cell_type": "code",
   "execution_count": 14,
   "metadata": {},
   "outputs": [],
   "source": [
    "l_num = []\n",
    "l_str = []\n",
    "\n",
    "for i in l5:\n",
    "    if type(i) == int or type(i) == float:\n",
    "        l_num.append(i)\n",
    "    else:\n",
    "        l_str.append(i)"
   ]
  },
  {
   "cell_type": "code",
   "execution_count": 15,
   "metadata": {},
   "outputs": [
    {
     "name": "stdout",
     "output_type": "stream",
     "text": [
      "[1, 2, 3, 4, 5, 7.8]\n",
      "['abc', 'dope']\n"
     ]
    }
   ],
   "source": [
    "print(l_num)\n",
    "print(l_str)"
   ]
  }
 ],
 "metadata": {
  "kernelspec": {
   "display_name": "Python 3",
   "language": "python",
   "name": "python3"
  },
  "language_info": {
   "codemirror_mode": {
    "name": "ipython",
    "version": 3
   },
   "file_extension": ".py",
   "mimetype": "text/x-python",
   "name": "python",
   "nbconvert_exporter": "python",
   "pygments_lexer": "ipython3",
   "version": "3.11.1"
  },
  "orig_nbformat": 4
 },
 "nbformat": 4,
 "nbformat_minor": 2
}
