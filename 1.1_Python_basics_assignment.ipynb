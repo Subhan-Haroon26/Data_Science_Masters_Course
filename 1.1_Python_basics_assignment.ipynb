{
 "cells": [
  {
   "attachments": {},
   "cell_type": "markdown",
   "metadata": {},
   "source": [
    "# **Python Basics Assignment**"
   ]
  },
  {
   "attachments": {},
   "cell_type": "markdown",
   "metadata": {},
   "source": [
    "**1. Who developed Python programming language?**\n",
    "\n",
    "   * Python was created by **Guido van Rossun**, a Dutch programmer. The first version of Python 0.9.0 was released in _February 1991_."
   ]
  },
  {
   "cell_type": "markdown",
   "metadata": {},
   "source": []
  },
  {
   "attachments": {},
   "cell_type": "markdown",
   "metadata": {},
   "source": [
    "**2. Which type of programming does Python support?** \\\n",
    "   \\\n",
    "   Python is a **general-purpose**, **high-level** programming language that supports a wide range of programming patterns, including:\n",
    "    \n",
    "    \n",
    "* Procedural programming\n",
    "* Object-oriented programming\n",
    "* Functional programming\n",
    "* Aspect-oriented programming\n",
    "* Imperative programming\n",
    "* Event-driven programming\n",
    "* Meta programming\n",
    "\n",
    "\n",
    ">_Python's flexibility and ease of use make it a popular choice for many different kinds of programming tasks, including web development, data analysis, artificial intelligence, and machine learning etc._\n",
    "   "
   ]
  },
  {
   "cell_type": "markdown",
   "metadata": {},
   "source": []
  },
  {
   "attachments": {},
   "cell_type": "markdown",
   "metadata": {},
   "source": [
    "**3. Is Python case sensitive when dealing with identifiers?**\n",
    "  * **Yes**, Python is case sensitive when dealing with identifiers such as variables names, function names, and class names. This means that identifiers with different capitalization are treated as seperated entities by the Python interpreter.\n",
    "\n",
    "  * For examples: myvariable and myVariable are cosidered two different variables."
   ]
  },
  {
   "cell_type": "markdown",
   "metadata": {},
   "source": []
  },
  {
   "attachments": {},
   "cell_type": "markdown",
   "metadata": {},
   "source": [
    "**4. What is the correct extension of Python file?**\n",
    "   * The correct extension for a Python source codes file is \"**.py**\"\n",
    "   * _program_filename.py_"
   ]
  },
  {
   "cell_type": "markdown",
   "metadata": {},
   "source": []
  },
  {
   "attachments": {},
   "cell_type": "markdown",
   "metadata": {},
   "source": [
    "**5. Is Python code compiled or interpreted?**\n",
    "   \n",
    "* Python code is generally **interpreted**, although it can also be _compiled._\n",
    "\n"
   ]
  },
  {
   "cell_type": "markdown",
   "metadata": {},
   "source": []
  },
  {
   "attachments": {},
   "cell_type": "markdown",
   "metadata": {},
   "source": [
    "**6. Name a few blocks of code used to define in Python language**\\\n",
    "   \\\n",
    "   Here are few blocks of code used to define in python language:\n",
    "\n",
    "   * _**Conditional statements**_: are used to execute different code blocks on certain conditions. They are defined using the '**if**', '**elif**', and '**else**' keywords\n",
    "\n",
    "   * **_Looping Statement_**: are used to execute block of code multiple times. They are defined using the '**for**' and '**while**' keywords.\n"
   ]
  },
  {
   "cell_type": "markdown",
   "metadata": {},
   "source": []
  },
  {
   "attachments": {},
   "cell_type": "markdown",
   "metadata": {},
   "source": [
    "**7. State a character used to give single line comments in Python**\n",
    "* In Python, the character used to give single-line comments is the **hashtag symbol (#)**."
   ]
  },
  {
   "cell_type": "markdown",
   "metadata": {},
   "source": []
  },
  {
   "attachments": {},
   "cell_type": "markdown",
   "metadata": {},
   "source": [
    "**8. Mention functions which can help us find the version of Python that we are currently working on.**\n",
    "* You can use '**sys**' module to find out the version of Python you are currently working on. You can do it by writing the following code:"
   ]
  },
  {
   "cell_type": "code",
   "execution_count": 1,
   "metadata": {},
   "outputs": [
    {
     "name": "stdout",
     "output_type": "stream",
     "text": [
      "3.11.1 (tags/v3.11.1:a7a450f, Dec  6 2022, 19:58:39) [MSC v.1934 64 bit (AMD64)]\n"
     ]
    }
   ],
   "source": [
    "import sys\n",
    "print(sys.version)"
   ]
  },
  {
   "attachments": {},
   "cell_type": "markdown",
   "metadata": {},
   "source": [
    "* Also you can run the command '**python --version**' in terminal to check the python version"
   ]
  },
  {
   "cell_type": "markdown",
   "metadata": {},
   "source": []
  },
  {
   "attachments": {},
   "cell_type": "markdown",
   "metadata": {},
   "source": [
    "**9. Python supports the creation of anonymous functions at runtime using a construct called _ _ _ _.**\n",
    "* Python supports the creation of anonymous functions at runtime using a construct called **lambda**."
   ]
  },
  {
   "cell_type": "markdown",
   "metadata": {},
   "source": []
  },
  {
   "attachments": {},
   "cell_type": "markdown",
   "metadata": {},
   "source": [
    "**10. What does pip stand for Python?**\n",
    "* In the context of Python, pip stands for '**pip installs packages**'. It is the package installer for python and used to install packages from the python package index and other index"
   ]
  },
  {
   "cell_type": "markdown",
   "metadata": {},
   "source": []
  },
  {
   "attachments": {},
   "cell_type": "markdown",
   "metadata": {},
   "source": [
    "**11. Mention a few built-in functions in Python**\n",
    "* type( )\n",
    "* print( )\n",
    "* str( )\n",
    "* bool( )\n",
    "* int( )"
   ]
  },
  {
   "cell_type": "markdown",
   "metadata": {},
   "source": []
  },
  {
   "attachments": {},
   "cell_type": "markdown",
   "metadata": {},
   "source": [
    "**12. What maximum possible length open a identifier in Python**\n",
    "* In Python, identifiers are **unlimited in length**\n",
    "* However _PEP-8_ style guide recommends limiting all to a maximum of **79 characters** for readability and uniformly across your programs"
   ]
  },
  {
   "cell_type": "markdown",
   "metadata": {},
   "source": []
  },
  {
   "attachments": {},
   "cell_type": "markdown",
   "metadata": {},
   "source": [
    "**13. What are the benefits of using Python?**\n",
    "* Easy to Learn\n",
    "* Extensive amount of libraries\n",
    "* Free and Open Source\n",
    "* Dynamic Typing\n",
    "* It can be used in _web development, data analysis, artificial intelligence, and machine learning_ etc."
   ]
  },
  {
   "cell_type": "markdown",
   "metadata": {},
   "source": []
  },
  {
   "attachments": {},
   "cell_type": "markdown",
   "metadata": {},
   "source": [
    "**14. How is memory managed in Python?**\n",
    "* In Python, memory management is handled  automatically by the **Python memory manager**.\n",
    "* The memory manager is responsible for tasks such as _cleaning up, allocating, and managing memory_.\n",
    "* Python manages objects by using _reference counting_.\n",
    "* _Garbage collection_ is the process of freeing up unused and unwanted memory, and in Python, this is done _automatically_ by the interpreter."
   ]
  },
  {
   "cell_type": "markdown",
   "metadata": {},
   "source": []
  },
  {
   "attachments": {},
   "cell_type": "markdown",
   "metadata": {},
   "source": [
    "**15. How to install Python in windows?**\n",
    "* _Step 01_: **Download Python** from its official website\n",
    "* _Step 02_: **Run the Installer** --> choose location --> add python to your system path\n"
   ]
  },
  {
   "cell_type": "markdown",
   "metadata": {},
   "source": []
  },
  {
   "attachments": {},
   "cell_type": "markdown",
   "metadata": {},
   "source": [
    "**16. Is indentation required in Python?**\n",
    "  * **Yes**, indentation is required in Python.\n",
    "  * In Python, the indentation level determines where a block of code begins and ends."
   ]
  }
 ],
 "metadata": {
  "kernelspec": {
   "display_name": "Python 3",
   "language": "python",
   "name": "python3"
  },
  "language_info": {
   "codemirror_mode": {
    "name": "ipython",
    "version": 3
   },
   "file_extension": ".py",
   "mimetype": "text/x-python",
   "name": "python",
   "nbconvert_exporter": "python",
   "pygments_lexer": "ipython3",
   "version": "3.11.1"
  },
  "orig_nbformat": 4
 },
 "nbformat": 4,
 "nbformat_minor": 2
}
