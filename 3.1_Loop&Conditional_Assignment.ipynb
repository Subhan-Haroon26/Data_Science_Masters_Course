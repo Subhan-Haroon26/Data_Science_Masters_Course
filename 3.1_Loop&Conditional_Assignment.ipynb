{
 "cells": [
  {
   "attachments": {},
   "cell_type": "markdown",
   "metadata": {},
   "source": [
    "\n",
    "**1. Write a program to accept percentages from the user and display the grade according to the following criteria:** \n",
    "\n",
    "**Marks** | **Grade** \n",
    "---------|----------\n",
    " _>90_ | _A_  \n",
    " _>80 and <=90_ | _B_ \n",
    " _>=60 and <=80_| _C_ \n",
    " _below 60_ | _D_"
   ]
  },
  {
   "cell_type": "code",
   "execution_count": 3,
   "metadata": {},
   "outputs": [
    {
     "name": "stdout",
     "output_type": "stream",
     "text": [
      "A Grade\n"
     ]
    }
   ],
   "source": [
    "# take input from user & check above conditions\n",
    "percentage = int(input('enter your percentage'))\n",
    "if percentage >90:\n",
    "  print('A Grade')\n",
    "elif percentage >80 and percentage <=90:\n",
    "  print('B Grade')\n",
    "elif percentage >=60 and percentage <=80:\n",
    "  print('C Grade')\n",
    "else:\n",
    "  print('D Grade')\n",
    "    "
   ]
  },
  {
   "cell_type": "markdown",
   "metadata": {},
   "source": []
  },
  {
   "attachments": {},
   "cell_type": "markdown",
   "metadata": {},
   "source": [
    "**2. Write a program to accept the cost price of a bike and display the road tax to be paid according to the following criteria:** \n",
    "\n",
    "**Tax** | **Cost Price(Rs.)** \n",
    "---------|----------\n",
    " _15%_ | _>100000_  \n",
    " _10%_ | _>50000 and <=100000_ \n",
    " _5%_| _<=50000_ "
   ]
  },
  {
   "cell_type": "code",
   "execution_count": 5,
   "metadata": {},
   "outputs": [
    {
     "name": "stdout",
     "output_type": "stream",
     "text": [
      "Tax is 5%.\n"
     ]
    }
   ],
   "source": [
    "# accept the cost price from user and display the tax accordind to above criteria:\n",
    "cost_price = int(input('Enter the cost price of your bike'))\n",
    "if cost_price > 100000:\n",
    "    print('Tax is 15%.')\n",
    "elif cost_price > 50000 and cost_price <= 100000:\n",
    "    print('Tax is 10%.')\n",
    "else:\n",
    "    print('Tax is 5%.')"
   ]
  },
  {
   "cell_type": "markdown",
   "metadata": {},
   "source": []
  },
  {
   "attachments": {},
   "cell_type": "markdown",
   "metadata": {},
   "source": [
    "**3. Accept following city from the user and display monuments of that city:** \n",
    "\n",
    "**City** | **Monument** \n",
    "---------|----------\n",
    " _Delhi_ | _Red Fort_  \n",
    " _Agra_ | _Taj Mahal_ \n",
    " _Jaipur_| _Jal Mahal_ "
   ]
  },
  {
   "cell_type": "code",
   "execution_count": 9,
   "metadata": {},
   "outputs": [
    {
     "name": "stdout",
     "output_type": "stream",
     "text": [
      "The monument of that city is Taj Mahal\n"
     ]
    }
   ],
   "source": [
    "# accept city from user and display the monument of that city\n",
    "city = input('Enter City Name')\n",
    "if city == \"Delhi\":\n",
    "    print('The monument of that city is Red Fort')\n",
    "elif city == \"Agra\":\n",
    "    print('The monument of that city is Taj Mahal')\n",
    "else:\n",
    "    print('The monument of that city is Jal Mahal')\n"
   ]
  },
  {
   "cell_type": "markdown",
   "metadata": {},
   "source": []
  },
  {
   "attachments": {},
   "cell_type": "markdown",
   "metadata": {},
   "source": [
    "**4. How many times a given number is divided by 3 before it is less than or equal to 10?**"
   ]
  },
  {
   "cell_type": "code",
   "execution_count": 7,
   "metadata": {},
   "outputs": [
    {
     "name": "stdout",
     "output_type": "stream",
     "text": [
      "The number is divided by 3 2 times before it is less than or equal to 10\n"
     ]
    }
   ],
   "source": [
    "# take number from user\n",
    "num = int(input('Enter a number'))\n",
    "x = 0\n",
    "while num > 10:\n",
    "    num = num/3\n",
    "    x = x + 1\n",
    "print('The number is divided by 3', x, 'times before it is less than or equal to 10')\n",
    "    "
   ]
  },
  {
   "cell_type": "markdown",
   "metadata": {},
   "source": []
  },
  {
   "attachments": {},
   "cell_type": "markdown",
   "metadata": {},
   "source": [
    "**5. Why and When to use while loop in python give a detailed description with example?**\n",
    "* A while loop is used when you want to **execute a block of code repeatedly** while a certain condition is True.\n",
    "* The while loop repeatdly excutes the code block as long as the _condition is true_.\n",
    "* There are several situations in which a while loop can be useful in Python:\n",
    "    * When you want to iterate over a sequence of values that cannot be expressed as a range or list comprehension.\n",
    "    * When you want to repeatedly execute a block of code untill a certain condition is True.\n",
    "    * When you want to create an infinite loop that can only be terminated by a specific condition or by the user.\n",
    "    * When you want to simulate a process that continues until a certain condition is reached.\n",
    "    "
   ]
  },
  {
   "cell_type": "code",
   "execution_count": 1,
   "metadata": {},
   "outputs": [
    {
     "name": "stdout",
     "output_type": "stream",
     "text": [
      "1\n",
      "2\n",
      "3\n",
      "4\n",
      "5\n",
      "6\n",
      "7\n",
      "8\n",
      "9\n",
      "10\n"
     ]
    }
   ],
   "source": [
    "# Here is an examples of while loop\n",
    "# print out number 1 to 10 using while loop\n",
    "i = 1\n",
    "while i <= 10:\n",
    "    print(i)\n",
    "    i = i + 1"
   ]
  },
  {
   "attachments": {},
   "cell_type": "markdown",
   "metadata": {},
   "source": [
    ">_In this example, the condition 'i <= 10' is evaluated before each iteration of the loop. The loop will continue to execute as long as the value of 'i' is less than or equal to 10. Each time the loop is executed, the value of 'i' is incremented by 1 using the 'i=i+1'._\n"
   ]
  },
  {
   "cell_type": "markdown",
   "metadata": {},
   "source": []
  },
  {
   "attachments": {},
   "cell_type": "markdown",
   "metadata": {},
   "source": [
    "**6. Use nested while loop to print 3 different patterns.**"
   ]
  },
  {
   "cell_type": "code",
   "execution_count": 4,
   "metadata": {},
   "outputs": [
    {
     "name": "stdout",
     "output_type": "stream",
     "text": [
      "a a a a a \n",
      "a a a a a \n",
      "a a a a a \n",
      "a a a a a \n",
      "a a a a a \n"
     ]
    }
   ],
   "source": [
    "# Pattern 01\n",
    "size = 5\n",
    "\n",
    "# outer while loop\n",
    "row = 0\n",
    "while row < size:\n",
    "    # inner loop\n",
    "    col = 0\n",
    "    while col < size:\n",
    "        print('a', end=\" \")\n",
    "        col = col + 1\n",
    "    print()\n",
    "    row = row + 1\n",
    "        \n",
    "    "
   ]
  },
  {
   "cell_type": "code",
   "execution_count": 5,
   "metadata": {},
   "outputs": [
    {
     "name": "stdout",
     "output_type": "stream",
     "text": [
      "a \n",
      "a a \n",
      "a a a \n",
      "a a a a \n",
      "a a a a a \n"
     ]
    }
   ],
   "source": [
    "# Pattern 02\n",
    "si = 5\n",
    "\n",
    "# outer loop\n",
    "r = 0\n",
    "while r < si:\n",
    "    # inner loop\n",
    "    c = 0\n",
    "    while c <= r:\n",
    "        print('a', end=\" \")\n",
    "        c = c + 1\n",
    "    print()\n",
    "    r = r + 1"
   ]
  },
  {
   "cell_type": "code",
   "execution_count": 6,
   "metadata": {},
   "outputs": [
    {
     "name": "stdout",
     "output_type": "stream",
     "text": [
      "a a a a a \n",
      "a a a a \n",
      "a a a \n",
      "a a \n",
      "a \n"
     ]
    }
   ],
   "source": [
    "# Pattern 03\n",
    "siz = 5\n",
    "\n",
    "# outer loop\n",
    "ro = siz\n",
    "while ro > 0:\n",
    "    # inner loop\n",
    "    co = 0\n",
    "    while co < ro:\n",
    "        print('a', end=\" \")\n",
    "        co = co + 1\n",
    "    print()\n",
    "    ro = ro - 1"
   ]
  },
  {
   "cell_type": "markdown",
   "metadata": {},
   "source": []
  },
  {
   "attachments": {},
   "cell_type": "markdown",
   "metadata": {},
   "source": [
    "**7. Reverse a While loop to display numbers from 10 to 1.**"
   ]
  },
  {
   "cell_type": "code",
   "execution_count": 1,
   "metadata": {},
   "outputs": [
    {
     "name": "stdout",
     "output_type": "stream",
     "text": [
      "10\n",
      "9\n",
      "8\n",
      "7\n",
      "6\n",
      "5\n",
      "4\n",
      "3\n",
      "2\n",
      "1\n"
     ]
    }
   ],
   "source": [
    "# display numbers from 10 to 1 using while loop\n",
    "number = 10\n",
    "while number >= 1:\n",
    "    print(number)\n",
    "    number = number - 1"
   ]
  }
 ],
 "metadata": {
  "kernelspec": {
   "display_name": "Python 3",
   "language": "python",
   "name": "python3"
  },
  "language_info": {
   "codemirror_mode": {
    "name": "ipython",
    "version": 3
   },
   "file_extension": ".py",
   "mimetype": "text/x-python",
   "name": "python",
   "nbconvert_exporter": "python",
   "pygments_lexer": "ipython3",
   "version": "3.11.1"
  },
  "orig_nbformat": 4
 },
 "nbformat": 4,
 "nbformat_minor": 2
}
